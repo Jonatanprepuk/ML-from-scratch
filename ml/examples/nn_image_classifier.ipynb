{
 "cells": [
  {
   "cell_type": "code",
   "execution_count": null,
   "id": "718eda87",
   "metadata": {},
   "outputs": [],
   "source": [
    "import sys\n",
    "project_root = \"./\"\n",
    "if project_root not in sys.path:\n",
    "    sys.path.insert(0, project_root)"
   ]
  },
  {
   "cell_type": "markdown",
   "id": "e4f634f1",
   "metadata": {},
   "source": [
    "### MNIST Image Classification with a Dense Neural Network\n",
    "---\n",
    "This notebook demonstrates how to build and train a dense neural network for image classification. The model is trained on the well-known **MNIST dataset**, which consists of handwritten digits.\n",
    "\n",
    "---"
   ]
  },
  {
   "cell_type": "markdown",
   "id": "3f2cbd14",
   "metadata": {},
   "source": [
    "### Import Libraries\n",
    "Imports the necessary libraries and modules. `numpy` for numerical operations, `tensorflow.keras.datasets` to load the MNIST dataset, and `matplotlib.pyplot` to visualize images and plots. A custom `ml` module is also imported."
   ]
  },
  {
   "cell_type": "code",
   "execution_count": null,
   "id": "d9782aa3",
   "metadata": {},
   "outputs": [],
   "source": [
    "import numpy as np \n",
    "from ml import * \n",
    "from tensorflow.keras.datasets import mnist\n",
    "import matplotlib.pyplot as plt"
   ]
  },
  {
   "cell_type": "markdown",
   "id": "b848daca",
   "metadata": {},
   "source": [
    "### Load Data\n",
    "Loads the MNIST dataset, which consists of handwritten digits. The dataset is split into a training and a test set."
   ]
  },
  {
   "cell_type": "code",
   "execution_count": 3,
   "id": "594169e8",
   "metadata": {},
   "outputs": [],
   "source": [
    "(X_train, y_train), (X_test, y_test) = mnist.load_data()"
   ]
  },
  {
   "cell_type": "code",
   "execution_count": 4,
   "id": "fb412812",
   "metadata": {},
   "outputs": [
    {
     "name": "stdout",
     "output_type": "stream",
     "text": [
      "[[  0   0   0   0   0   0   0   0   0   0   0   0   0   0   0   0   0   0   0   0   0   0   0   0   0   0   0   0]\n",
      " [  0   0   0   0   0   0   0   0   0   0   0   0   0   0   0   0   0   0   0   0   0   0   0   0   0   0   0   0]\n",
      " [  0   0   0   0   0   0   0   0   0   0   0   0   0   0   0   0   0   0   0   0   0   0   0   0   0   0   0   0]\n",
      " [  0   0   0   0   0   0   0   0   0   0   0   0   0   0   0   0   0   0   0   0   0   0   0   0   0   0   0   0]\n",
      " [  0   0   0   0   0   0   0   0   0   0   0   0   0   0   0   0   0   0   0   0   0   0   0   0   0   0   0   0]\n",
      " [  0   0   0   0   0   0   0   0   0   0   0   0   3  18  18  18 126 136 175  26 166 255 247 127   0   0   0   0]\n",
      " [  0   0   0   0   0   0   0   0  30  36  94 154 170 253 253 253 253 253 225 172 253 242 195  64   0   0   0   0]\n",
      " [  0   0   0   0   0   0   0  49 238 253 253 253 253 253 253 253 253 251  93  82  82  56  39   0   0   0   0   0]\n",
      " [  0   0   0   0   0   0   0  18 219 253 253 253 253 253 198 182 247 241   0   0   0   0   0   0   0   0   0   0]\n",
      " [  0   0   0   0   0   0   0   0  80 156 107 253 253 205  11   0  43 154   0   0   0   0   0   0   0   0   0   0]\n",
      " [  0   0   0   0   0   0   0   0   0  14   1 154 253  90   0   0   0   0   0   0   0   0   0   0   0   0   0   0]\n",
      " [  0   0   0   0   0   0   0   0   0   0   0 139 253 190   2   0   0   0   0   0   0   0   0   0   0   0   0   0]\n",
      " [  0   0   0   0   0   0   0   0   0   0   0  11 190 253  70   0   0   0   0   0   0   0   0   0   0   0   0   0]\n",
      " [  0   0   0   0   0   0   0   0   0   0   0   0  35 241 225 160 108   1   0   0   0   0   0   0   0   0   0   0]\n",
      " [  0   0   0   0   0   0   0   0   0   0   0   0   0  81 240 253 253 119  25   0   0   0   0   0   0   0   0   0]\n",
      " [  0   0   0   0   0   0   0   0   0   0   0   0   0   0  45 186 253 253 150  27   0   0   0   0   0   0   0   0]\n",
      " [  0   0   0   0   0   0   0   0   0   0   0   0   0   0   0  16  93 252 253 187   0   0   0   0   0   0   0   0]\n",
      " [  0   0   0   0   0   0   0   0   0   0   0   0   0   0   0   0   0 249 253 249  64   0   0   0   0   0   0   0]\n",
      " [  0   0   0   0   0   0   0   0   0   0   0   0   0   0  46 130 183 253 253 207   2   0   0   0   0   0   0   0]\n",
      " [  0   0   0   0   0   0   0   0   0   0   0   0  39 148 229 253 253 253 250 182   0   0   0   0   0   0   0   0]\n",
      " [  0   0   0   0   0   0   0   0   0   0  24 114 221 253 253 253 253 201  78   0   0   0   0   0   0   0   0   0]\n",
      " [  0   0   0   0   0   0   0   0  23  66 213 253 253 253 253 198  81   2   0   0   0   0   0   0   0   0   0   0]\n",
      " [  0   0   0   0   0   0  18 171 219 253 253 253 253 195  80   9   0   0   0   0   0   0   0   0   0   0   0   0]\n",
      " [  0   0   0   0  55 172 226 253 253 253 253 244 133  11   0   0   0   0   0   0   0   0   0   0   0   0   0   0]\n",
      " [  0   0   0   0 136 253 253 253 212 135 132  16   0   0   0   0   0   0   0   0   0   0   0   0   0   0   0   0]\n",
      " [  0   0   0   0   0   0   0   0   0   0   0   0   0   0   0   0   0   0   0   0   0   0   0   0   0   0   0   0]\n",
      " [  0   0   0   0   0   0   0   0   0   0   0   0   0   0   0   0   0   0   0   0   0   0   0   0   0   0   0   0]\n",
      " [  0   0   0   0   0   0   0   0   0   0   0   0   0   0   0   0   0   0   0   0   0   0   0   0   0   0   0   0]]\n"
     ]
    }
   ],
   "source": [
    "np.set_printoptions(linewidth=200)\n",
    "print(X_train[0])"
   ]
  },
  {
   "cell_type": "code",
   "execution_count": 5,
   "id": "40c72b6c",
   "metadata": {},
   "outputs": [
    {
     "data": {
      "image/png": "[encoded data removed]",
      "text/plain": [
       "<Figure size 640x480 with 1 Axes>"
      ]
     },
     "metadata": {},
     "output_type": "display_data"
    }
   ],
   "source": [
    "plt.imshow(X_train[0])\n",
    "plt.show()"
   ]
  },
  {
   "cell_type": "markdown",
   "id": "263ea49b",
   "metadata": {},
   "source": [
    "### Prepare and Normalize Data\n",
    "Prepares the image data for training. The images are reshaped from 2D arrays (28x28 pixels) to 1D vectors (784 elements). The pixel values are also normalized from the range [0, 255] to [-1, 1] to help the network learn more effectively."
   ]
  },
  {
   "cell_type": "code",
   "execution_count": 6,
   "id": "d14d551a",
   "metadata": {},
   "outputs": [],
   "source": [
    "X_train = (X_train.reshape(X_train.shape[0], -1).astype(np.float32) - 127.5) / 127.5\n",
    "X_test = (X_test.reshape(X_test.shape[0], -1).astype(np.float32) - 127.5) / 127.5\n"
   ]
  },
  {
   "cell_type": "markdown",
   "id": "641e4f1f",
   "metadata": {},
   "source": [
    "### Define the Model\n",
    "Defines the architecture of the neural network. The model consists of:\n",
    "* An input layer.\n",
    "* Two hidden layers with 128 neurons each and ReLU activation function.\n",
    "* An output layer with 10 neurons (one for each digit) and Softmax activation.\n",
    "\n",
    "The model is configured with `CategoricalCrossentropy` as the loss function, `Adam` as the optimizer, and `AccuracyCategorical` to measure accuracy."
   ]
  },
  {
   "cell_type": "code",
   "execution_count": 7,
   "id": "5702ae10",
   "metadata": {},
   "outputs": [],
   "source": [
    "model = Model()\n",
    "\n",
    "model.add(Dense(X_train.shape[1], 128))\n",
    "model.add(ReLU())\n",
    "model.add(Dense(128,128))\n",
    "model.add(ReLU())\n",
    "model.add(Dense(128,10))\n",
    "model.add(Softmax())\n",
    "\n",
    "model.set(loss=CategoricalCrossentropy(),\n",
    "          optimizer=Adam(learning_rate=0.001, decay=1e-3),\n",
    "          accuracy=AccuracyCategorical())\n",
    "\n",
    "model.finalize()"
   ]
  },
  {
   "cell_type": "markdown",
   "id": "d9abfe31",
   "metadata": {},
   "source": [
    "### Train the Model\n",
    "Trains the model using the training data. The training is run for 25 epochs with a batch size of 128. Validation data is used to monitor the model's performance on data it has not seen during training."
   ]
  },
  {
   "cell_type": "code",
   "execution_count": 8,
   "id": "4162c2bc",
   "metadata": {},
   "outputs": [
    {
     "name": "stdout",
     "output_type": "stream",
     "text": [
      "epoch: 1\n",
      "step: 0, acc: 0.078 loss: 2.303 data_loss: 2.303 reg_loss: 0.000 lr: 0.001\n",
      "step: 100, acc: 0.742 loss: 0.802 data_loss: 0.802 reg_loss: 0.000 lr: 0.0009090909090909091\n",
      "step: 200, acc: 0.852 loss: 0.411 data_loss: 0.411 reg_loss: 0.000 lr: 0.0008333333333333334\n",
      "step: 300, acc: 0.828 loss: 0.428 data_loss: 0.428 reg_loss: 0.000 lr: 0.0007692307692307692\n",
      "step: 400, acc: 0.812 loss: 0.632 data_loss: 0.632 reg_loss: 0.000 lr: 0.0007142857142857143\n",
      "step: 468, acc: 0.885 loss: 0.400 data_loss: 0.400 reg_loss: 0.000 lr: 0.000681198910081744\n",
      "training, acc: 0.802 loss: 0.623 data_loss: 0.623 reg_loss: 0.000 lr: 0.000681198910081744\n",
      "validation, acc: 0.903 loss: 0.318\n",
      "epoch: 2\n",
      "step: 0, acc: 0.945 loss: 0.215 data_loss: 0.215 reg_loss: 0.000 lr: 0.0006807351940095304\n",
      "step: 100, acc: 0.930 loss: 0.247 data_loss: 0.247 reg_loss: 0.000 lr: 0.0006373486297004461\n",
      "step: 200, acc: 0.898 loss: 0.258 data_loss: 0.258 reg_loss: 0.000 lr: 0.0005991611743559018\n",
      "step: 300, acc: 0.930 loss: 0.244 data_loss: 0.244 reg_loss: 0.000 lr: 0.0005652911249293386\n",
      "step: 400, acc: 0.883 loss: 0.404 data_loss: 0.404 reg_loss: 0.000 lr: 0.0005350454788657037\n",
      "step: 468, acc: 0.948 loss: 0.278 data_loss: 0.278 reg_loss: 0.000 lr: 0.0005162622612287042\n",
      "training, acc: 0.911 loss: 0.298 data_loss: 0.298 reg_loss: 0.000 lr: 0.0005162622612287042\n",
      "validation, acc: 0.930 loss: 0.230\n",
      "epoch: 3\n",
      "step: 0, acc: 0.953 loss: 0.138 data_loss: 0.138 reg_loss: 0.000 lr: 0.0005159958720330237\n",
      "step: 100, acc: 0.984 loss: 0.138 data_loss: 0.138 reg_loss: 0.000 lr: 0.0004906771344455348\n",
      "step: 200, acc: 0.914 loss: 0.185 data_loss: 0.185 reg_loss: 0.000 lr: 0.0004677268475210477\n",
      "step: 300, acc: 0.953 loss: 0.156 data_loss: 0.156 reg_loss: 0.000 lr: 0.00044682752457551384\n",
      "step: 400, acc: 0.906 loss: 0.282 data_loss: 0.282 reg_loss: 0.000 lr: 0.00042771599657827206\n",
      "step: 468, acc: 0.948 loss: 0.226 data_loss: 0.226 reg_loss: 0.000 lr: 0.0004156275976724854\n",
      "training, acc: 0.935 loss: 0.216 data_loss: 0.216 reg_loss: 0.000 lr: 0.0004156275976724854\n",
      "validation, acc: 0.947 loss: 0.175\n",
      "epoch: 4\n",
      "step: 0, acc: 0.977 loss: 0.106 data_loss: 0.106 reg_loss: 0.000 lr: 0.0004154549231408392\n",
      "step: 100, acc: 0.984 loss: 0.104 data_loss: 0.104 reg_loss: 0.000 lr: 0.00039888312724371757\n",
      "step: 200, acc: 0.953 loss: 0.126 data_loss: 0.126 reg_loss: 0.000 lr: 0.0003835826620636747\n",
      "step: 300, acc: 0.969 loss: 0.110 data_loss: 0.110 reg_loss: 0.000 lr: 0.0003694126339120798\n",
      "step: 400, acc: 0.938 loss: 0.220 data_loss: 0.220 reg_loss: 0.000 lr: 0.0003562522265764161\n",
      "step: 468, acc: 0.969 loss: 0.213 data_loss: 0.213 reg_loss: 0.000 lr: 0.00034782608695652176\n",
      "training, acc: 0.950 loss: 0.165 data_loss: 0.165 reg_loss: 0.000 lr: 0.00034782608695652176\n",
      "validation, acc: 0.955 loss: 0.150\n",
      "epoch: 5\n",
      "step: 0, acc: 0.977 loss: 0.098 data_loss: 0.098 reg_loss: 0.000 lr: 0.0003477051460361613\n",
      "step: 100, acc: 0.977 loss: 0.076 data_loss: 0.076 reg_loss: 0.000 lr: 0.00033602150537634406\n",
      "step: 200, acc: 0.961 loss: 0.108 data_loss: 0.108 reg_loss: 0.000 lr: 0.00032509752925877764\n",
      "step: 300, acc: 0.977 loss: 0.094 data_loss: 0.094 reg_loss: 0.000 lr: 0.00031486146095717883\n",
      "step: 400, acc: 0.945 loss: 0.191 data_loss: 0.191 reg_loss: 0.000 lr: 0.00030525030525030525\n",
      "step: 468, acc: 0.969 loss: 0.196 data_loss: 0.196 reg_loss: 0.000 lr: 0.0002990430622009569\n",
      "training, acc: 0.959 loss: 0.135 data_loss: 0.135 reg_loss: 0.000 lr: 0.0002990430622009569\n",
      "validation, acc: 0.959 loss: 0.137\n",
      "epoch: 6\n",
      "step: 0, acc: 0.977 loss: 0.087 data_loss: 0.087 reg_loss: 0.000 lr: 0.0002989536621823617\n",
      "step: 100, acc: 0.977 loss: 0.063 data_loss: 0.063 reg_loss: 0.000 lr: 0.00029027576197387516\n",
      "step: 200, acc: 0.953 loss: 0.092 data_loss: 0.092 reg_loss: 0.000 lr: 0.0002820874471086037\n",
      "step: 300, acc: 0.977 loss: 0.082 data_loss: 0.082 reg_loss: 0.000 lr: 0.00027434842249657066\n",
      "step: 400, acc: 0.953 loss: 0.163 data_loss: 0.163 reg_loss: 0.000 lr: 0.000267022696929239\n",
      "step: 468, acc: 0.969 loss: 0.184 data_loss: 0.184 reg_loss: 0.000 lr: 0.00026226068712300026\n",
      "training, acc: 0.965 loss: 0.113 data_loss: 0.113 reg_loss: 0.000 lr: 0.00026226068712300026\n",
      "validation, acc: 0.961 loss: 0.130\n",
      "epoch: 7\n",
      "step: 0, acc: 0.977 loss: 0.075 data_loss: 0.075 reg_loss: 0.000 lr: 0.00026219192448872575\n",
      "step: 100, acc: 0.977 loss: 0.054 data_loss: 0.054 reg_loss: 0.000 lr: 0.00025549310168625444\n",
      "step: 200, acc: 0.961 loss: 0.078 data_loss: 0.078 reg_loss: 0.000 lr: 0.00024912805181863477\n",
      "step: 300, acc: 0.984 loss: 0.081 data_loss: 0.081 reg_loss: 0.000 lr: 0.0002430724355858046\n",
      "step: 400, acc: 0.953 loss: 0.138 data_loss: 0.138 reg_loss: 0.000 lr: 0.00023730422401518745\n",
      "step: 468, acc: 0.969 loss: 0.180 data_loss: 0.180 reg_loss: 0.000 lr: 0.00023353573096683791\n",
      "training, acc: 0.970 loss: 0.097 data_loss: 0.097 reg_loss: 0.000 lr: 0.00023353573096683791\n",
      "validation, acc: 0.964 loss: 0.115\n",
      "epoch: 8\n",
      "step: 0, acc: 0.992 loss: 0.052 data_loss: 0.052 reg_loss: 0.000 lr: 0.00023348120476301658\n",
      "step: 100, acc: 0.977 loss: 0.056 data_loss: 0.056 reg_loss: 0.000 lr: 0.00022815423226100847\n",
      "step: 200, acc: 0.961 loss: 0.071 data_loss: 0.071 reg_loss: 0.000 lr: 0.0002230649118893598\n",
      "step: 300, acc: 0.984 loss: 0.064 data_loss: 0.064 reg_loss: 0.000 lr: 0.00021819768710451667\n",
      "step: 400, acc: 0.961 loss: 0.130 data_loss: 0.130 reg_loss: 0.000 lr: 0.00021353833013025838\n",
      "step: 468, acc: 0.969 loss: 0.177 data_loss: 0.177 reg_loss: 0.000 lr: 0.00021048200378867611\n",
      "training, acc: 0.973 loss: 0.085 data_loss: 0.085 reg_loss: 0.000 lr: 0.00021048200378867611\n",
      "validation, acc: 0.967 loss: 0.113\n",
      "epoch: 9\n",
      "step: 0, acc: 0.992 loss: 0.041 data_loss: 0.041 reg_loss: 0.000 lr: 0.0002104377104377104\n",
      "step: 100, acc: 0.969 loss: 0.056 data_loss: 0.056 reg_loss: 0.000 lr: 0.0002061005770816158\n",
      "step: 200, acc: 0.977 loss: 0.058 data_loss: 0.058 reg_loss: 0.000 lr: 0.00020193861066235866\n",
      "step: 300, acc: 0.984 loss: 0.054 data_loss: 0.054 reg_loss: 0.000 lr: 0.0001979414093428345\n",
      "step: 400, acc: 0.961 loss: 0.109 data_loss: 0.109 reg_loss: 0.000 lr: 0.0001940993788819876\n",
      "step: 468, acc: 0.969 loss: 0.180 data_loss: 0.180 reg_loss: 0.000 lr: 0.00019157088122605365\n",
      "training, acc: 0.977 loss: 0.076 data_loss: 0.076 reg_loss: 0.000 lr: 0.00019157088122605365\n",
      "validation, acc: 0.964 loss: 0.116\n",
      "epoch: 10\n",
      "step: 0, acc: 0.992 loss: 0.035 data_loss: 0.035 reg_loss: 0.000 lr: 0.0001915341888527102\n",
      "step: 100, acc: 0.969 loss: 0.045 data_loss: 0.045 reg_loss: 0.000 lr: 0.00018793459875963167\n",
      "step: 200, acc: 0.977 loss: 0.058 data_loss: 0.058 reg_loss: 0.000 lr: 0.00018446781036709093\n",
      "step: 300, acc: 0.984 loss: 0.060 data_loss: 0.060 reg_loss: 0.000 lr: 0.00018112660749864155\n",
      "step: 400, acc: 0.969 loss: 0.106 data_loss: 0.106 reg_loss: 0.000 lr: 0.00017790428749332856\n",
      "step: 468, acc: 0.969 loss: 0.177 data_loss: 0.177 reg_loss: 0.000 lr: 0.00017577781683951485\n",
      "training, acc: 0.979 loss: 0.068 data_loss: 0.068 reg_loss: 0.000 lr: 0.00017577781683951485\n",
      "validation, acc: 0.967 loss: 0.114\n",
      "epoch: 11\n",
      "step: 0, acc: 0.992 loss: 0.034 data_loss: 0.034 reg_loss: 0.000 lr: 0.00017574692442882248\n",
      "step: 100, acc: 0.977 loss: 0.048 data_loss: 0.048 reg_loss: 0.000 lr: 0.00017271157167530224\n",
      "step: 200, acc: 0.984 loss: 0.053 data_loss: 0.053 reg_loss: 0.000 lr: 0.00016977928692699494\n",
      "step: 300, acc: 0.984 loss: 0.047 data_loss: 0.047 reg_loss: 0.000 lr: 0.0001669449081803005\n",
      "step: 400, acc: 0.969 loss: 0.099 data_loss: 0.099 reg_loss: 0.000 lr: 0.00016420361247947455\n",
      "step: 468, acc: 0.979 loss: 0.156 data_loss: 0.156 reg_loss: 0.000 lr: 0.00016239038648911984\n",
      "training, acc: 0.981 loss: 0.062 data_loss: 0.062 reg_loss: 0.000 lr: 0.00016239038648911984\n",
      "validation, acc: 0.964 loss: 0.119\n",
      "epoch: 12\n",
      "step: 0, acc: 0.992 loss: 0.029 data_loss: 0.029 reg_loss: 0.000 lr: 0.0001623640201331385\n",
      "step: 100, acc: 0.984 loss: 0.047 data_loss: 0.047 reg_loss: 0.000 lr: 0.00015976993129892953\n",
      "step: 200, acc: 0.984 loss: 0.036 data_loss: 0.036 reg_loss: 0.000 lr: 0.00015725743041358704\n",
      "step: 300, acc: 0.984 loss: 0.045 data_loss: 0.045 reg_loss: 0.000 lr: 0.00015482272797646694\n",
      "step: 400, acc: 0.969 loss: 0.111 data_loss: 0.111 reg_loss: 0.000 lr: 0.00015246226558926666\n",
      "step: 468, acc: 0.990 loss: 0.131 data_loss: 0.131 reg_loss: 0.000 lr: 0.00015089784216085713\n",
      "training, acc: 0.983 loss: 0.055 data_loss: 0.055 reg_loss: 0.000 lr: 0.00015089784216085713\n",
      "validation, acc: 0.966 loss: 0.110\n",
      "epoch: 13\n",
      "step: 0, acc: 1.000 loss: 0.017 data_loss: 0.017 reg_loss: 0.000 lr: 0.00015087507543753772\n",
      "step: 100, acc: 0.984 loss: 0.047 data_loss: 0.047 reg_loss: 0.000 lr: 0.00014863258026159336\n",
      "step: 200, acc: 1.000 loss: 0.026 data_loss: 0.026 reg_loss: 0.000 lr: 0.00014645577035735208\n",
      "step: 300, acc: 0.984 loss: 0.039 data_loss: 0.039 reg_loss: 0.000 lr: 0.0001443418013856813\n",
      "step: 400, acc: 0.969 loss: 0.123 data_loss: 0.123 reg_loss: 0.000 lr: 0.0001422879908935686\n",
      "step: 468, acc: 0.990 loss: 0.109 data_loss: 0.109 reg_loss: 0.000 lr: 0.00014092446448703494\n",
      "training, acc: 0.984 loss: 0.050 data_loss: 0.050 reg_loss: 0.000 lr: 0.00014092446448703494\n",
      "validation, acc: 0.969 loss: 0.109\n",
      "epoch: 14\n",
      "step: 0, acc: 1.000 loss: 0.021 data_loss: 0.021 reg_loss: 0.000 lr: 0.0001409046075806679\n",
      "step: 100, acc: 1.000 loss: 0.026 data_loss: 0.026 reg_loss: 0.000 lr: 0.0001389467833819647\n",
      "step: 200, acc: 1.000 loss: 0.026 data_loss: 0.026 reg_loss: 0.000 lr: 0.0001370426202548993\n",
      "step: 300, acc: 0.984 loss: 0.033 data_loss: 0.033 reg_loss: 0.000 lr: 0.000135189941868325\n",
      "step: 400, acc: 0.961 loss: 0.133 data_loss: 0.133 reg_loss: 0.000 lr: 0.00013338668800853677\n",
      "step: 468, acc: 0.990 loss: 0.121 data_loss: 0.121 reg_loss: 0.000 lr: 0.00013218770654329146\n",
      "training, acc: 0.985 loss: 0.045 data_loss: 0.045 reg_loss: 0.000 lr: 0.00013218770654329146\n",
      "validation, acc: 0.971 loss: 0.107\n",
      "epoch: 15\n",
      "step: 0, acc: 1.000 loss: 0.013 data_loss: 0.013 reg_loss: 0.000 lr: 0.0001321702352630188\n",
      "step: 100, acc: 0.984 loss: 0.041 data_loss: 0.041 reg_loss: 0.000 lr: 0.00013044612575006522\n",
      "step: 200, acc: 0.992 loss: 0.025 data_loss: 0.025 reg_loss: 0.000 lr: 0.0001287664177182591\n",
      "step: 300, acc: 0.984 loss: 0.026 data_loss: 0.026 reg_loss: 0.000 lr: 0.0001271294177472667\n",
      "step: 400, acc: 0.969 loss: 0.122 data_loss: 0.122 reg_loss: 0.000 lr: 0.00012553351744915893\n",
      "step: 468, acc: 0.979 loss: 0.126 data_loss: 0.126 reg_loss: 0.000 lr: 0.00012447099825740605\n",
      "training, acc: 0.987 loss: 0.040 data_loss: 0.040 reg_loss: 0.000 lr: 0.00012447099825740605\n",
      "validation, acc: 0.972 loss: 0.101\n",
      "epoch: 16\n",
      "step: 0, acc: 1.000 loss: 0.008 data_loss: 0.008 reg_loss: 0.000 lr: 0.00012445550715619168\n",
      "step: 100, acc: 0.984 loss: 0.056 data_loss: 0.056 reg_loss: 0.000 lr: 0.0001229256299938537\n",
      "step: 200, acc: 0.992 loss: 0.020 data_loss: 0.020 reg_loss: 0.000 lr: 0.00012143290831815424\n",
      "step: 300, acc: 0.992 loss: 0.020 data_loss: 0.020 reg_loss: 0.000 lr: 0.00011997600479904018\n",
      "step: 400, acc: 0.969 loss: 0.105 data_loss: 0.105 reg_loss: 0.000 lr: 0.00011855364552459988\n",
      "step: 468, acc: 0.990 loss: 0.107 data_loss: 0.107 reg_loss: 0.000 lr: 0.00011760555098200635\n",
      "training, acc: 0.988 loss: 0.037 data_loss: 0.037 reg_loss: 0.000 lr: 0.00011760555098200635\n",
      "validation, acc: 0.970 loss: 0.108\n",
      "epoch: 17\n",
      "step: 0, acc: 1.000 loss: 0.014 data_loss: 0.014 reg_loss: 0.000 lr: 0.00011759172154280338\n",
      "step: 100, acc: 0.992 loss: 0.023 data_loss: 0.023 reg_loss: 0.000 lr: 0.00011622501162250119\n",
      "step: 200, acc: 0.977 loss: 0.049 data_loss: 0.049 reg_loss: 0.000 lr: 0.00011488970588235294\n",
      "step: 300, acc: 0.992 loss: 0.026 data_loss: 0.026 reg_loss: 0.000 lr: 0.00011358473421172194\n",
      "step: 400, acc: 0.961 loss: 0.128 data_loss: 0.128 reg_loss: 0.000 lr: 0.00011230907457322552\n",
      "step: 468, acc: 0.990 loss: 0.099 data_loss: 0.099 reg_loss: 0.000 lr: 0.00011145786892554613\n",
      "training, acc: 0.988 loss: 0.036 data_loss: 0.036 reg_loss: 0.000 lr: 0.00011145786892554613\n",
      "validation, acc: 0.969 loss: 0.113\n",
      "epoch: 18\n",
      "step: 0, acc: 1.000 loss: 0.013 data_loss: 0.013 reg_loss: 0.000 lr: 0.00011144544745347155\n",
      "step: 100, acc: 0.992 loss: 0.021 data_loss: 0.021 reg_loss: 0.000 lr: 0.00011021712774165104\n",
      "step: 200, acc: 1.000 loss: 0.008 data_loss: 0.008 reg_loss: 0.000 lr: 0.00010901558922925978\n",
      "step: 300, acc: 0.992 loss: 0.017 data_loss: 0.017 reg_loss: 0.000 lr: 0.00010783996549121104\n",
      "step: 400, acc: 0.977 loss: 0.163 data_loss: 0.163 reg_loss: 0.000 lr: 0.0001066894270777766\n",
      "step: 468, acc: 0.990 loss: 0.095 data_loss: 0.095 reg_loss: 0.000 lr: 0.00010592098294672174\n",
      "training, acc: 0.989 loss: 0.034 data_loss: 0.034 reg_loss: 0.000 lr: 0.00010592098294672174\n",
      "validation, acc: 0.971 loss: 0.112\n",
      "epoch: 19\n",
      "step: 0, acc: 1.000 loss: 0.007 data_loss: 0.007 reg_loss: 0.000 lr: 0.00010590976488032195\n",
      "step: 100, acc: 0.977 loss: 0.043 data_loss: 0.043 reg_loss: 0.000 lr: 0.0001047998323202683\n",
      "step: 200, acc: 0.992 loss: 0.037 data_loss: 0.037 reg_loss: 0.000 lr: 0.00010371292263015973\n",
      "step: 300, acc: 0.992 loss: 0.020 data_loss: 0.020 reg_loss: 0.000 lr: 0.00010264832683227263\n",
      "step: 400, acc: 0.961 loss: 0.140 data_loss: 0.140 reg_loss: 0.000 lr: 0.0001016053647632595\n",
      "step: 468, acc: 0.990 loss: 0.098 data_loss: 0.098 reg_loss: 0.000 lr: 0.00010090817356205853\n",
      "training, acc: 0.989 loss: 0.032 data_loss: 0.032 reg_loss: 0.000 lr: 0.00010090817356205853\n",
      "validation, acc: 0.965 loss: 0.137\n",
      "epoch: 20\n",
      "step: 0, acc: 0.992 loss: 0.029 data_loss: 0.029 reg_loss: 0.000 lr: 0.00010089799212995662\n",
      "step: 100, acc: 0.984 loss: 0.030 data_loss: 0.030 reg_loss: 0.000 lr: 9.989012086704624e-05\n",
      "step: 200, acc: 0.992 loss: 0.013 data_loss: 0.013 reg_loss: 0.000 lr: 9.89021857383048e-05\n",
      "step: 300, acc: 0.992 loss: 0.026 data_loss: 0.026 reg_loss: 0.000 lr: 9.793360101850946e-05\n",
      "step: 400, acc: 0.961 loss: 0.142 data_loss: 0.142 reg_loss: 0.000 lr: 9.698380370478129e-05\n",
      "step: 468, acc: 0.990 loss: 0.098 data_loss: 0.098 reg_loss: 0.000 lr: 9.634839579920996e-05\n",
      "training, acc: 0.990 loss: 0.029 data_loss: 0.029 reg_loss: 0.000 lr: 9.634839579920996e-05\n",
      "validation, acc: 0.967 loss: 0.130\n",
      "epoch: 21\n",
      "step: 0, acc: 1.000 loss: 0.006 data_loss: 0.006 reg_loss: 0.000 lr: 9.633911368015413e-05\n",
      "step: 100, acc: 1.000 loss: 0.015 data_loss: 0.015 reg_loss: 0.000 lr: 9.541984732824427e-05\n",
      "step: 200, acc: 0.992 loss: 0.044 data_loss: 0.044 reg_loss: 0.000 lr: 9.45179584120983e-05\n",
      "step: 300, acc: 0.977 loss: 0.045 data_loss: 0.045 reg_loss: 0.000 lr: 9.363295880149813e-05\n",
      "step: 400, acc: 0.961 loss: 0.148 data_loss: 0.148 reg_loss: 0.000 lr: 9.27643784786642e-05\n",
      "step: 468, acc: 0.990 loss: 0.098 data_loss: 0.098 reg_loss: 0.000 lr: 9.218289085545723e-05\n",
      "training, acc: 0.990 loss: 0.029 data_loss: 0.029 reg_loss: 0.000 lr: 9.218289085545723e-05\n",
      "validation, acc: 0.972 loss: 0.110\n",
      "epoch: 22\n",
      "step: 0, acc: 0.984 loss: 0.043 data_loss: 0.043 reg_loss: 0.000 lr: 9.217439395335976e-05\n",
      "step: 100, acc: 0.977 loss: 0.033 data_loss: 0.033 reg_loss: 0.000 lr: 9.133254178463788e-05\n",
      "step: 200, acc: 0.977 loss: 0.060 data_loss: 0.060 reg_loss: 0.000 lr: 9.050592813829306e-05\n",
      "step: 300, acc: 0.977 loss: 0.034 data_loss: 0.034 reg_loss: 0.000 lr: 8.969414297246389e-05\n",
      "step: 400, acc: 0.984 loss: 0.077 data_loss: 0.077 reg_loss: 0.000 lr: 8.889679082585119e-05\n",
      "step: 468, acc: 0.990 loss: 0.090 data_loss: 0.090 reg_loss: 0.000 lr: 8.836264027569144e-05\n",
      "training, acc: 0.989 loss: 0.029 data_loss: 0.029 reg_loss: 0.000 lr: 8.836264027569144e-05\n",
      "validation, acc: 0.975 loss: 0.106\n",
      "epoch: 23\n",
      "step: 0, acc: 1.000 loss: 0.009 data_loss: 0.009 reg_loss: 0.000 lr: 8.835483300936562e-05\n",
      "step: 100, acc: 0.977 loss: 0.060 data_loss: 0.060 reg_loss: 0.000 lr: 8.758101243650376e-05\n",
      "step: 200, acc: 0.992 loss: 0.027 data_loss: 0.027 reg_loss: 0.000 lr: 8.682062858135092e-05\n",
      "step: 300, acc: 1.000 loss: 0.011 data_loss: 0.011 reg_loss: 0.000 lr: 8.607333448097779e-05\n",
      "step: 400, acc: 0.984 loss: 0.064 data_loss: 0.064 reg_loss: 0.000 lr: 8.533879501621438e-05\n",
      "step: 468, acc: 0.990 loss: 0.070 data_loss: 0.070 reg_loss: 0.000 lr: 8.484642796538266e-05\n",
      "training, acc: 0.991 loss: 0.027 data_loss: 0.027 reg_loss: 0.000 lr: 8.484642796538266e-05\n",
      "validation, acc: 0.974 loss: 0.106\n",
      "epoch: 24\n",
      "step: 0, acc: 0.992 loss: 0.014 data_loss: 0.014 reg_loss: 0.000 lr: 8.483922965979469e-05\n",
      "step: 100, acc: 0.992 loss: 0.024 data_loss: 0.024 reg_loss: 0.000 lr: 8.412551526878102e-05\n",
      "step: 200, acc: 0.992 loss: 0.028 data_loss: 0.028 reg_loss: 0.000 lr: 8.342370901810295e-05\n",
      "step: 300, acc: 1.000 loss: 0.005 data_loss: 0.005 reg_loss: 0.000 lr: 8.273351534706711e-05\n",
      "step: 400, acc: 0.969 loss: 0.077 data_loss: 0.077 reg_loss: 0.000 lr: 8.205464839583163e-05\n",
      "step: 468, acc: 0.990 loss: 0.044 data_loss: 0.044 reg_loss: 0.000 lr: 8.159934720522235e-05\n",
      "training, acc: 0.992 loss: 0.023 data_loss: 0.023 reg_loss: 0.000 lr: 8.159934720522235e-05\n",
      "validation, acc: 0.973 loss: 0.118\n",
      "epoch: 25\n",
      "step: 0, acc: 1.000 loss: 0.003 data_loss: 0.003 reg_loss: 0.000 lr: 8.159268929503917e-05\n",
      "step: 100, acc: 0.984 loss: 0.021 data_loss: 0.021 reg_loss: 0.000 lr: 8.09323405632891e-05\n",
      "step: 200, acc: 0.969 loss: 0.055 data_loss: 0.055 reg_loss: 0.000 lr: 8.02825947334618e-05\n",
      "step: 300, acc: 1.000 loss: 0.003 data_loss: 0.003 reg_loss: 0.000 lr: 7.964319847085058e-05\n",
      "step: 400, acc: 0.984 loss: 0.052 data_loss: 0.052 reg_loss: 0.000 lr: 7.901390644753477e-05\n",
      "step: 468, acc: 0.990 loss: 0.053 data_loss: 0.053 reg_loss: 0.000 lr: 7.85916378497328e-05\n",
      "training, acc: 0.992 loss: 0.024 data_loss: 0.024 reg_loss: 0.000 lr: 7.85916378497328e-05\n",
      "validation, acc: 0.971 loss: 0.127\n"
     ]
    }
   ],
   "source": [
    "model.train(X_train, y_train, epochs=25, batch_size=128, print_every=100, validation_data=(X_test, y_test))"
   ]
  },
  {
   "cell_type": "markdown",
   "id": "eb0382ab",
   "metadata": {},
   "source": [
    "### Visualize Training Progress\n",
    "Plots the training and validation loss over the epochs to visualize how well the model is learning and to detect any potential overfitting."
   ]
  },
  {
   "cell_type": "code",
   "execution_count": 9,
   "id": "f1c1c334",
   "metadata": {},
   "outputs": [
    {
     "data": {
      "image/png": "[encoded data removed]",
      "text/plain": [
       "<Figure size 640x480 with 1 Axes>"
      ]
     },
     "metadata": {},
     "output_type": "display_data"
    }
   ],
   "source": [
    "model.plot_loss()"
   ]
  },
  {
   "cell_type": "markdown",
   "id": "fc01cedc",
   "metadata": {},
   "source": [
    "### Save Model\n",
    "We save the trained model to the `models` folder for later use or deployment."
   ]
  },
  {
   "cell_type": "code",
   "execution_count": 10,
   "id": "25fae72d",
   "metadata": {},
   "outputs": [],
   "source": [
    "model.save(\"./models/mnist_dense.model\")"
   ]
  },
  {
   "cell_type": "markdown",
   "id": "a757e056",
   "metadata": {},
   "source": [
    "### Load Model\n",
    "We load the previously saved model from the `models` folder for inference or further training."
   ]
  },
  {
   "cell_type": "code",
   "execution_count": 11,
   "id": "76e55b51",
   "metadata": {},
   "outputs": [],
   "source": [
    "model = Model.load(\"./models/mnist_dense.model\")"
   ]
  },
  {
   "cell_type": "markdown",
   "id": "322ee36f",
   "metadata": {},
   "source": [
    "### Make Predictions\n",
    "Selects five random images from the test set and uses the trained model to predict which digit each image represents."
   ]
  },
  {
   "cell_type": "code",
   "execution_count": 12,
   "id": "12fa3604",
   "metadata": {},
   "outputs": [],
   "source": [
    "n = np.random.randint(0, len(X_test) - 5)\n",
    "confidences = model.predict(X_test[n:n+5])"
   ]
  },
  {
   "cell_type": "markdown",
   "id": "e6128fb4",
   "metadata": {},
   "source": [
    "### Display Results\n",
    "Displays the five test images along with the predicted digits and confidance from the model."
   ]
  },
  {
   "cell_type": "code",
   "execution_count": 13,
   "id": "e4936f3e",
   "metadata": {},
   "outputs": [
    {
     "data": {
      "image/png": "[encoded data removed]",
      "text/plain": [
       "<Figure size 1000x500 with 5 Axes>"
      ]
     },
     "metadata": {},
     "output_type": "display_data"
    }
   ],
   "source": [
    "plt.figure(figsize=(10, 5))\n",
    "for idx, i in enumerate(range(n, n+5)):\n",
    "    plt.subplot(1, 5, idx+1)\n",
    "    plt.imshow(X_test[i].reshape(28,28), cmap='gray')\n",
    "    prediction = np.argmax(confidences[idx])\n",
    "    confidence = confidences[idx][prediction]*100\n",
    "    plt.title(f\"Prediction: {prediction}\\nConfidence: {confidence:.2f}%\")\n",
    "    plt.axis('off')\n",
    "plt.tight_layout()\n",
    "plt.show()"
   ]
  },
  {
   "cell_type": "markdown",
   "id": "017cb322",
   "metadata": {},
   "source": [
    "### MNIST Image Classification with a Convolutional Neural Network (CNN)\n",
    "---\n",
    "This section demonstrates how to build and train a Convolutional Neural Network (CNN) for image classification. This model is also designed to classify handwritten digits from the **MNIST dataset**, but utilizes convolutional layers to efficiently learn spatial features from the image data.\n",
    "\n",
    "---\n"
   ]
  },
  {
   "cell_type": "code",
   "execution_count": 14,
   "id": "f7a8fb8c",
   "metadata": {},
   "outputs": [],
   "source": [
    "(X_train, y_train), (X_test, y_test) = mnist.load_data()\n"
   ]
  },
  {
   "cell_type": "markdown",
   "id": "ca598c41",
   "metadata": {},
   "source": [
    "### Prepare Data for the CNN\n",
    "For the convolutional model (CNN) to work correctly, the input data needs a channel dimension. We therefore reshape the image data from (60000, 28, 28) to (60000, 28, 28, 1), where `1` represents the grayscale channel."
   ]
  },
  {
   "cell_type": "code",
   "execution_count": 15,
   "id": "11e3b620",
   "metadata": {},
   "outputs": [
    {
     "data": {
      "text/plain": [
       "(60000, 1, 28, 28)"
      ]
     },
     "execution_count": 15,
     "metadata": {},
     "output_type": "execute_result"
    }
   ],
   "source": [
    "X_train = X_train.reshape(X_train.shape[0], 1, 28, 28)\n",
    "X_test = X_test.reshape(X_test.shape[0], 1, 28, 28)\n",
    "X_train.shape"
   ]
  },
  {
   "cell_type": "markdown",
   "id": "ef62e898",
   "metadata": {},
   "source": [
    "### Convolutional Neural Network (CNN) Model Architecture\n",
    "\n",
    "This CNN model is designed for image classification, built with a sequential layering approach.\n",
    "\n",
    "#### Model Layers:\n",
    "\n",
    "The model processes input through two **convolutional blocks**, each comprising a **`Conv2D` layer** for feature extraction, followed by a **`ReLU` activation** for non-linearity, and a **`MaxPooling2d` layer** for down-sampling. Note that the **`MaxPooling2d`** implementation here isn't optimized, which can lead to longer training times.\n",
    "\n",
    "After these blocks, a **`Flatten` layer** transforms the 2D feature maps into a 1D vector. This is then fed into two **`Dense` (fully connected) layers**. The first `Dense` layer has 128 neurons and uses `ReLU` activation. The final `Dense` layer has 10 neurons (for 10 classes) and is followed by a **`Softmax` activation** to output class probabilities.\n",
    "\n",
    "#### Model Configuration:\n",
    "\n",
    "The model is configured for training with:\n",
    "\n",
    "* **Loss Function**: `CategoricalCrossentropy()`\n",
    "* **Optimizer**: `Adam(learning_rate=0.0001)`\n",
    "* **Accuracy Metric**: `AccuracyCategorical()`"
   ]
  },
  {
   "cell_type": "code",
   "execution_count": 16,
   "id": "be2ce37e",
   "metadata": {},
   "outputs": [],
   "source": [
    "model = Model()\n",
    "\n",
    "model.add(Conv2D(in_channels=1, out_channels=8, kernel_size=3, stride=(1,1)))\n",
    "model.add(ReLU())\n",
    "model.add(MaxPooling2d(pool_size=(2,2), stride=(2,2)))\n",
    "model.add(Conv2D(in_channels=8, out_channels=16, kernel_size=3, stride=(1,1)))\n",
    "model.add(ReLU())\n",
    "model.add(MaxPooling2d(pool_size=(2,2), stride=(2,2)))\n",
    "model.add(Flatten())\n",
    "model.add(Dense(400, 128))\n",
    "model.add(ReLU())\n",
    "model.add(Dense(128, 10))\n",
    "model.add(Softmax())\n",
    "\n",
    "model.set(loss=CategoricalCrossentropy(),\n",
    "          optimizer=Adam(learning_rate=0.0001),\n",
    "          accuracy=AccuracyCategorical())\n",
    "\n",
    "model.finalize()"
   ]
  },
  {
   "cell_type": "markdown",
   "id": "aab5a51f",
   "metadata": {},
   "source": [
    "---\n",
    "## Model Training Process\n",
    "\n",
    "The model is trained for **5 epochs** using **`X_train`** and **`y_train`**, processing data in **batches of 64**. Its performance is regularly validated against **`X_test`** and **`y_test`** to monitor learning and prevent overfitting.\n",
    "\n",
    "---"
   ]
  },
  {
   "cell_type": "code",
   "execution_count": 17,
   "id": "d5f22a62",
   "metadata": {},
   "outputs": [
    {
     "name": "stdout",
     "output_type": "stream",
     "text": [
      "epoch: 1\n",
      "step: 0, acc: 0.125 loss: 4.616 data_loss: 4.616 reg_loss: 0.000 lr: 0.0001\n",
      "step: 100, acc: 0.875 loss: 0.308 data_loss: 0.308 reg_loss: 0.000 lr: 0.0001\n",
      "step: 200, acc: 0.906 loss: 0.292 data_loss: 0.292 reg_loss: 0.000 lr: 0.0001\n",
      "step: 300, acc: 0.906 loss: 0.255 data_loss: 0.255 reg_loss: 0.000 lr: 0.0001\n",
      "step: 400, acc: 0.953 loss: 0.145 data_loss: 0.145 reg_loss: 0.000 lr: 0.0001\n",
      "step: 500, acc: 0.922 loss: 0.195 data_loss: 0.195 reg_loss: 0.000 lr: 0.0001\n",
      "step: 600, acc: 0.969 loss: 0.132 data_loss: 0.132 reg_loss: 0.000 lr: 0.0001\n",
      "step: 700, acc: 0.906 loss: 0.356 data_loss: 0.356 reg_loss: 0.000 lr: 0.0001\n",
      "step: 800, acc: 0.891 loss: 0.482 data_loss: 0.482 reg_loss: 0.000 lr: 0.0001\n",
      "step: 900, acc: 0.953 loss: 0.227 data_loss: 0.227 reg_loss: 0.000 lr: 0.0001\n",
      "step: 937, acc: 0.938 loss: 0.083 data_loss: 0.083 reg_loss: 0.000 lr: 0.0001\n",
      "training, acc: 0.913 loss: 0.287 data_loss: 0.287 reg_loss: 0.000 lr: 0.0001\n",
      "validation, acc: 0.964 loss: 0.116\n",
      "epoch: 2\n",
      "step: 0, acc: 0.938 loss: 0.138 data_loss: 0.138 reg_loss: 0.000 lr: 0.0001\n",
      "step: 100, acc: 0.953 loss: 0.198 data_loss: 0.198 reg_loss: 0.000 lr: 0.0001\n",
      "step: 200, acc: 0.938 loss: 0.197 data_loss: 0.197 reg_loss: 0.000 lr: 0.0001\n",
      "step: 300, acc: 0.969 loss: 0.151 data_loss: 0.151 reg_loss: 0.000 lr: 0.0001\n",
      "step: 400, acc: 0.984 loss: 0.037 data_loss: 0.037 reg_loss: 0.000 lr: 0.0001\n",
      "step: 500, acc: 0.969 loss: 0.116 data_loss: 0.116 reg_loss: 0.000 lr: 0.0001\n",
      "step: 600, acc: 0.984 loss: 0.098 data_loss: 0.098 reg_loss: 0.000 lr: 0.0001\n",
      "step: 700, acc: 0.922 loss: 0.294 data_loss: 0.294 reg_loss: 0.000 lr: 0.0001\n",
      "step: 800, acc: 0.922 loss: 0.342 data_loss: 0.342 reg_loss: 0.000 lr: 0.0001\n",
      "step: 900, acc: 0.953 loss: 0.154 data_loss: 0.154 reg_loss: 0.000 lr: 0.0001\n",
      "step: 937, acc: 1.000 loss: 0.014 data_loss: 0.014 reg_loss: 0.000 lr: 0.0001\n",
      "training, acc: 0.969 loss: 0.103 data_loss: 0.103 reg_loss: 0.000 lr: 0.0001\n",
      "validation, acc: 0.974 loss: 0.084\n",
      "epoch: 3\n",
      "step: 0, acc: 0.953 loss: 0.105 data_loss: 0.105 reg_loss: 0.000 lr: 0.0001\n",
      "step: 100, acc: 0.953 loss: 0.181 data_loss: 0.181 reg_loss: 0.000 lr: 0.0001\n",
      "step: 200, acc: 0.938 loss: 0.179 data_loss: 0.179 reg_loss: 0.000 lr: 0.0001\n",
      "step: 300, acc: 0.984 loss: 0.096 data_loss: 0.096 reg_loss: 0.000 lr: 0.0001\n",
      "step: 400, acc: 0.984 loss: 0.024 data_loss: 0.024 reg_loss: 0.000 lr: 0.0001\n",
      "step: 500, acc: 0.984 loss: 0.086 data_loss: 0.086 reg_loss: 0.000 lr: 0.0001\n",
      "step: 600, acc: 0.984 loss: 0.068 data_loss: 0.068 reg_loss: 0.000 lr: 0.0001\n",
      "step: 700, acc: 0.938 loss: 0.204 data_loss: 0.204 reg_loss: 0.000 lr: 0.0001\n",
      "step: 800, acc: 0.969 loss: 0.172 data_loss: 0.172 reg_loss: 0.000 lr: 0.0001\n",
      "step: 900, acc: 0.938 loss: 0.127 data_loss: 0.127 reg_loss: 0.000 lr: 0.0001\n",
      "step: 937, acc: 1.000 loss: 0.009 data_loss: 0.009 reg_loss: 0.000 lr: 0.0001\n",
      "training, acc: 0.977 loss: 0.073 data_loss: 0.073 reg_loss: 0.000 lr: 0.0001\n",
      "validation, acc: 0.979 loss: 0.071\n",
      "epoch: 4\n",
      "step: 0, acc: 0.969 loss: 0.063 data_loss: 0.063 reg_loss: 0.000 lr: 0.0001\n",
      "step: 100, acc: 0.953 loss: 0.149 data_loss: 0.149 reg_loss: 0.000 lr: 0.0001\n",
      "step: 200, acc: 0.953 loss: 0.113 data_loss: 0.113 reg_loss: 0.000 lr: 0.0001\n",
      "step: 300, acc: 0.984 loss: 0.076 data_loss: 0.076 reg_loss: 0.000 lr: 0.0001\n",
      "step: 400, acc: 0.984 loss: 0.018 data_loss: 0.018 reg_loss: 0.000 lr: 0.0001\n",
      "step: 500, acc: 0.984 loss: 0.058 data_loss: 0.058 reg_loss: 0.000 lr: 0.0001\n",
      "step: 600, acc: 0.984 loss: 0.048 data_loss: 0.048 reg_loss: 0.000 lr: 0.0001\n",
      "step: 700, acc: 0.969 loss: 0.148 data_loss: 0.148 reg_loss: 0.000 lr: 0.0001\n",
      "step: 800, acc: 0.969 loss: 0.134 data_loss: 0.134 reg_loss: 0.000 lr: 0.0001\n",
      "step: 900, acc: 0.953 loss: 0.110 data_loss: 0.110 reg_loss: 0.000 lr: 0.0001\n",
      "step: 937, acc: 1.000 loss: 0.004 data_loss: 0.004 reg_loss: 0.000 lr: 0.0001\n",
      "training, acc: 0.982 loss: 0.057 data_loss: 0.057 reg_loss: 0.000 lr: 0.0001\n",
      "validation, acc: 0.982 loss: 0.060\n",
      "epoch: 5\n",
      "step: 0, acc: 0.984 loss: 0.051 data_loss: 0.051 reg_loss: 0.000 lr: 0.0001\n",
      "step: 100, acc: 0.953 loss: 0.158 data_loss: 0.158 reg_loss: 0.000 lr: 0.0001\n",
      "step: 200, acc: 0.969 loss: 0.078 data_loss: 0.078 reg_loss: 0.000 lr: 0.0001\n",
      "step: 300, acc: 0.984 loss: 0.060 data_loss: 0.060 reg_loss: 0.000 lr: 0.0001\n",
      "step: 400, acc: 0.984 loss: 0.025 data_loss: 0.025 reg_loss: 0.000 lr: 0.0001\n",
      "step: 500, acc: 0.984 loss: 0.040 data_loss: 0.040 reg_loss: 0.000 lr: 0.0001\n",
      "step: 600, acc: 0.984 loss: 0.037 data_loss: 0.037 reg_loss: 0.000 lr: 0.0001\n",
      "step: 700, acc: 0.969 loss: 0.118 data_loss: 0.118 reg_loss: 0.000 lr: 0.0001\n",
      "step: 800, acc: 0.984 loss: 0.113 data_loss: 0.113 reg_loss: 0.000 lr: 0.0001\n",
      "step: 900, acc: 0.938 loss: 0.093 data_loss: 0.093 reg_loss: 0.000 lr: 0.0001\n",
      "step: 937, acc: 1.000 loss: 0.001 data_loss: 0.001 reg_loss: 0.000 lr: 0.0001\n",
      "training, acc: 0.986 loss: 0.045 data_loss: 0.045 reg_loss: 0.000 lr: 0.0001\n",
      "validation, acc: 0.984 loss: 0.053\n"
     ]
    }
   ],
   "source": [
    "model.train(X_train, y_train, epochs=5, batch_size=64, print_every=100, validation_data=(X_test, y_test))"
   ]
  },
  {
   "cell_type": "markdown",
   "id": "669a7b81",
   "metadata": {},
   "source": [
    "### Visualize Training Progress\n",
    "Plots the training and validation loss over the epochs to visualize how well the model is learning and to detect any potential overfitting."
   ]
  },
  {
   "cell_type": "code",
   "execution_count": 18,
   "id": "162a030d",
   "metadata": {},
   "outputs": [
    {
     "data": {
      "image/png": "[encoded data removed]",
      "text/plain": [
       "<Figure size 640x480 with 1 Axes>"
      ]
     },
     "metadata": {},
     "output_type": "display_data"
    },
    {
     "name": "stdout",
     "output_type": "stream",
     "text": [
      "validation, acc: 0.984 loss: 0.053\n"
     ]
    }
   ],
   "source": [
    "model.plot_loss()\n",
    "model.evaluate(X_test, y_test)"
   ]
  },
  {
   "cell_type": "markdown",
   "id": "2a363bd3",
   "metadata": {},
   "source": [
    "### Save Model\n",
    "We save the trained model to the `models` folder for later use or deployment."
   ]
  },
  {
   "cell_type": "code",
   "execution_count": 19,
   "id": "db6f5a07",
   "metadata": {},
   "outputs": [],
   "source": [
    "model.save(\"./models/mnist_cnn.model\")"
   ]
  },
  {
   "cell_type": "markdown",
   "id": "76e315db",
   "metadata": {},
   "source": [
    "### Load Model\n",
    "We load the previously saved model from the `models` folder for inference or further training."
   ]
  },
  {
   "cell_type": "code",
   "execution_count": 20,
   "id": "1b68854a",
   "metadata": {},
   "outputs": [],
   "source": [
    "model = Model.load(\"./models/mnist_cnn.model\")"
   ]
  },
  {
   "cell_type": "markdown",
   "id": "4bf3df73",
   "metadata": {},
   "source": [
    "### Make Predictions\n",
    "Selects five random images from the test set and uses the trained model to predict which digit each image represents."
   ]
  },
  {
   "cell_type": "code",
   "execution_count": 21,
   "id": "e69d92d6",
   "metadata": {},
   "outputs": [],
   "source": [
    "n = np.random.randint(0, len(X_test) - 5)\n",
    "confidences = model.predict(X_test[n:n+5])"
   ]
  },
  {
   "cell_type": "markdown",
   "id": "dd31bbe1",
   "metadata": {},
   "source": [
    "### Display Results\n",
    "Displays the five test images along with the predicted digits and confidance from the model."
   ]
  },
  {
   "cell_type": "code",
   "execution_count": 22,
   "id": "fd791b5f",
   "metadata": {},
   "outputs": [
    {
     "data": {
      "image/png": "[encoded data removed]",
      "text/plain": [
       "<Figure size 1000x500 with 5 Axes>"
      ]
     },
     "metadata": {},
     "output_type": "display_data"
    }
   ],
   "source": [
    "plt.figure(figsize=(10, 5))\n",
    "for idx, i in enumerate(range(n, n+5)):\n",
    "    plt.subplot(1, 5, idx+1)\n",
    "    plt.imshow(X_test[i].reshape(28,28), cmap='gray')\n",
    "    prediction = np.argmax(confidences[idx])\n",
    "    confidence = confidences[idx][prediction]*100\n",
    "    plt.title(f\"Prediction: {prediction}\\nConfidence: {confidence:.2f}%\")\n",
    "    plt.axis('off')\n",
    "plt.tight_layout()\n",
    "plt.show()"
   ]
  }
 ],
 "metadata": {
  "kernelspec": {
   "display_name": ".venv",
   "language": "python",
   "name": "python3"
  },
  "language_info": {
   "codemirror_mode": {
    "name": "ipython",
    "version": 3
   },
   "file_extension": ".py",
   "mimetype": "text/x-python",
   "name": "python",
   "nbconvert_exporter": "python",
   "pygments_lexer": "ipython3",
   "version": "3.12.9"
  }
 },
 "nbformat": 4,
 "nbformat_minor": 5
}
